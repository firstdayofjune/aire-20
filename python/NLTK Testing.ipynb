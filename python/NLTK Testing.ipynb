{
 "cells": [
  {
   "cell_type": "code",
   "execution_count": 165,
   "metadata": {},
   "outputs": [],
   "source": [
    "import csv\n",
    "from pathlib import Path\n",
    "import matplotlib.pyplot as plot\n",
    "\n",
    "import nltk\n",
    "\n",
    "# nltk.download('book')\n",
    "# nltk.download('brown')\n",
    "\n",
    "from nltk.corpus import brown\n",
    "from nltk.corpus import stopwords\n",
    "from nltk.stem.lancaster import LancasterStemmer\n",
    "from nltk.stem.porter import PorterStemmer\n",
    "\n",
    "import gensim\n",
    "from gensim import corpora, models\n",
    "import numpy as np\n",
    "np.random.seed(2018)\n",
    "\n",
    "CROWD_RE_REQUIREMENTS = Path('..', 'crowdre_cleaned-csv', 'requirements.csv')"
   ]
  },
  {
   "cell_type": "code",
   "execution_count": 138,
   "metadata": {},
   "outputs": [],
   "source": [
    "class Requirement(object):\n",
    "    def __init__(self, text):\n",
    "        self.text = text\n",
    "    \n",
    "    def tokenize(self):\n",
    "        self.tokens = nltk.word_tokenize(self.cleaned_text)\n",
    "    \n",
    "    def redundant_start(self):\n",
    "        self.starts_with_smart_home = \"I want my smart home to\".lower() in self.text.lower()\n",
    "    \n",
    "    def remove_stopwords(self):\n",
    "        self.lexical_words = [word for word in self.tokens if word not in stopwords.words('english')]\n",
    "        \n",
    "    def reduce_to_stem(self):\n",
    "        #lancasterStemmer = LancasterStemmer()\n",
    "        porterStemmer = PorterStemmer()\n",
    "        self.stems = []\n",
    "        for lexicalWord in self.lexical_words:\n",
    "            self.stems.append(porterStemmer.stem(lexicalWord))\n",
    "            \n",
    "    def remove_special_characters(self):\n",
    "        regexOnlyWords = r'([A-Za-z]*)'\n",
    "        self.cleaned_text = ' '.join(re.findall(regexOnlyWords,self.text))\n",
    "        \n",
    "    def complete_analysis(self):\n",
    "        self.remove_special_characters()\n",
    "        self.tokenize()\n",
    "        self.redundant_start()\n",
    "        self.remove_stopwords()\n",
    "        self.reduce_to_stem()\n",
    "    \n",
    "    def __str__(self):\n",
    "        return self.text"
   ]
  },
  {
   "cell_type": "code",
   "execution_count": 143,
   "metadata": {},
   "outputs": [],
   "source": [
    "class RequirementsList(object):\n",
    "    def __init__(self, path):\n",
    "        if not path.exists() and path.is_file():\n",
    "            raise(\"The given path does not exist or is not a file.\")\n",
    "        self._build_requirements_list(path)\n",
    "        self._order_the_tags_list()\n",
    "    \n",
    "    def __iter__(self):\n",
    "        return self.requirements.__iter__() if hasattr(self, 'requirements') else []\n",
    "\n",
    "    def _build_requirements_list(self, path):\n",
    "        self.requirements = []\n",
    "        self.tags = dict()\n",
    "        self.tagNum = []\n",
    "        with open(path, newline='') as requirements_csv:\n",
    "            re_reader = csv.DictReader(requirements_csv, delimiter=',')\n",
    "            for row in re_reader:\n",
    "                requirementText = \"As a \" + row['role'] + \" I want \" + row['feature'] + \" so that \" + row['benefit']\n",
    "                # Get the list of tags\n",
    "                tagsList = row['tags'].split(\",\")\n",
    "                # Remove the whitespaces\n",
    "                tagsList = [tag.strip(' ') for tag in tagsList]\n",
    "                # Remove space elements\n",
    "                tagsList = [tag for tag in tagsList if tag != \" \"]\n",
    "                tagsList = [tag for tag in tagsList if tag != \"\"]\n",
    "                # Store the counter of tags in a map\n",
    "                self.tagNum.append(len(tagsList))\n",
    "                for tag in tagsList:\n",
    "                    if tag not in self.tags.keys():\n",
    "                        self.tags[tag] = 1\n",
    "                    else:\n",
    "                        self.tags[tag] = self.tags[tag] + 1\n",
    "                requirement = Requirement(requirementText)\n",
    "                self.requirements.append(requirement)\n",
    "                \n",
    "    def _order_the_tags_list(self):\n",
    "        orderedDict = dict()\n",
    "        for key in sorted(self.tags, key=self.tags.get, reverse=True):\n",
    "            orderedDict[key] = self.tags[key]\n",
    "        self.tags = orderedDict\n",
    "\n",
    "    def count(self):\n",
    "        return len(self.requirements) if hasattr(self, 'requirements') else 0\n",
    "\n",
    "re_list = RequirementsList(CROWD_RE_REQUIREMENTS)"
   ]
  },
  {
   "cell_type": "code",
   "execution_count": 144,
   "metadata": {},
   "outputs": [],
   "source": [
    "# NLP analysis\n",
    "joined_text = \" \".join(map(lambda re: re.text, re_list.requirements))\n",
    "joined_text_tokenized = nltk.word_tokenize(joined_text)\n",
    "\n",
    "no_of_requirements = re_list.count()\n",
    "tokens = []\n",
    "lexical_words = []\n",
    "stems = []\n",
    "re_starting_with_smart_home = 0\n",
    "\n",
    "lexical_words = []\n",
    "\n",
    "for requirement in re_list:\n",
    "    requirement.complete_analysis()\n",
    "    tokens += requirement.tokens    \n",
    "    lexical_words += requirement.lexical_words\n",
    "    stems += requirement.stems\n",
    "    if requirement.starts_with_smart_home:\n",
    "        re_starting_with_smart_home += 1 "
   ]
  },
  {
   "cell_type": "code",
   "execution_count": 92,
   "metadata": {
    "scrolled": false
   },
   "outputs": [
    {
     "name": "stdout",
     "output_type": "stream",
     "text": [
      "Number of Tokens (unique): \t\t88605 (4812)\n",
      "Number of Lexical Words: \t\t49107\n",
      "\n",
      "Vocabulary Size (Lexical Words): \t4677\n",
      "Vocabulary Size (Stems): \t\t3079\n",
      "\n",
      "Average Sentence Length (Tokens): \t30\n",
      "Average Sentence Length (Lexical Words):17\n",
      "\n",
      "Lexical Diversity: \t\t\t0.011\n",
      "Requirements containing\n",
      "\t'...I want my smart home to...': \t416/2966 (14.03%)\n"
     ]
    }
   ],
   "source": [
    "print(\"Number of Tokens (unique): \\t\\t{} ({})\".format(len(tokens), len(set(tokens))))\n",
    "print(\"Number of Lexical Words: \\t\\t{}\".format(len(lexical_words)))\n",
    "\n",
    "print(\"\\nVocabulary Size (Lexical Words): \\t{}\".format(len(set(lexical_words))))\n",
    "print(\"Vocabulary Size (Stems): \\t\\t{}\".format(len(set(stems))))\n",
    "\n",
    "print(\"\\nAverage Sentence Length (Tokens): \\t{}\".format(round(len(tokens) / no_of_requirements)))\n",
    "print(\"Average Sentence Length (Lexical Words):{}\".format(round(len(lexical_words) / no_of_requirements)))\n",
    "\n",
    "print(\"\\nLexical Diversity: \\t\\t\\t{}\".format(round(len(set(lexical_words)) / len(joined_text),3)))\n",
    "print(\"Requirements containing\\n\\t'...I want my smart home to...': \\t{}/{} ({}%)\".format(re_starting_with_smart_home, no_of_requirements, round(re_starting_with_smart_home / no_of_requirements * 100, 2)))\n"
   ]
  },
  {
   "cell_type": "code",
   "execution_count": 93,
   "metadata": {},
   "outputs": [
    {
     "data": {
      "image/png": "[encoded data removed]",
      "text/plain": [
       "<Figure size 432x288 with 1 Axes>"
      ]
     },
     "metadata": {
      "needs_background": "light"
     },
     "output_type": "display_data"
    },
    {
     "name": "stdout",
     "output_type": "stream",
     "text": [
      "Total amount of keys: 5232\n",
      "Keys per Requirement: min: 0, avg: 1, max: 11\n"
     ]
    }
   ],
   "source": [
    "x = list(re_list.tags.keys())[:8]\n",
    "y = list(re_list.tags.values())[:8]\n",
    "plot.bar(x, y)\n",
    "plot.suptitle(\"Keys of the requirements and the occurence in the requirements\", fontsize=16)\n",
    "plot.show()\n",
    "print(\"Total amount of keys: %d\" % sum(re_list.tagNum))\n",
    "print(\"Keys per Requirement: min: %d, avg: %d, max: %d\" % (min(re_list.tagNum), sum(re_list.tagNum)/len(re_list.tagNum), max(re_list.tagNum)))"
   ]
  },
  {
   "cell_type": "code",
   "execution_count": 161,
   "metadata": {},
   "outputs": [
    {
     "name": "stdout",
     "output_type": "stream",
     "text": [
      "Word 0 (\"As\") appears 1 time.\n",
      "Word 1 (\"I\") appears 3 time.\n",
      "Word 9 (\"home\") appears 1 time.\n",
      "Word 16 (\"want\") appears 1 time.\n",
      "Word 22 (\"hous\") appears 1 time.\n",
      "Word 25 (\"occup\") appears 1 time.\n",
      "Word 109 (\"time\") appears 1 time.\n",
      "Word 180 (\"notifi\") appears 1 time.\n",
      "Word 243 (\"potenti\") appears 1 time.\n",
      "Word 340 (\"avoid\") appears 1 time.\n",
      "Word 359 (\"without\") appears 1 time.\n",
      "Word 375 (\"enjoy\") appears 1 time.\n",
      "Word 542 (\"moment\") appears 1 time.\n",
      "Word 697 (\"alon\") appears 2 time.\n",
      "Word 3078 (\"awkward\") appears 1 time.\n",
      "[(2, 0.19555354931137417),\n",
      " (3, 0.2556786985075249),\n",
      " (4, 0.193936215118777),\n",
      " (5, 0.3360157906773499),\n",
      " (6, 0.2981277942278957),\n",
      " (7, 0.24220481732969915),\n",
      " (8, 0.18023486157736918),\n",
      " (9, 0.021059853684697004),\n",
      " (10, 0.265539734956691),\n",
      " (11, 0.2894739369726519),\n",
      " (12, 0.26040353992310705),\n",
      " (13, 0.3769315792731218),\n",
      " (14, 0.0872034462180203),\n",
      " (15, 0.20189445973666778),\n",
      " (17, 0.20899940817426535),\n",
      " (18, 0.3303897255684238)]\n"
     ]
    }
   ],
   "source": [
    "# Prepare Dataset for LDA\n",
    "\n",
    "stemsList = []\n",
    "for requirement in re_list:\n",
    "    stemsList.append(requirement.stems)\n",
    "\n",
    "# Bag of Words on the Data set\n",
    "dictionary = gensim.corpora.Dictionary(stemsList)\n",
    "\n",
    "# Gensim doc2bow\n",
    "bow_corpus = [dictionary.doc2bow(reqirement) for reqirement in stemsList]\n",
    "bow_doc_2965 = bow_corpus[2965]\n",
    "\n",
    "for i in range(len(bow_doc_2965)):\n",
    "    print(\"Word {} (\\\"{}\\\") appears {} time.\".format(bow_doc_2965[i][0], \n",
    "                                               dictionary[bow_doc_2965[i][0]], \n",
    "bow_doc_2965[i][1]))"
   ]
  },
  {
   "cell_type": "code",
   "execution_count": 166,
   "metadata": {
    "scrolled": false
   },
   "outputs": [
    {
     "name": "stdout",
     "output_type": "stream",
     "text": [
      "Topic: 0 \n",
      "Words: 0.095*\"I\" + 0.054*\"As\" + 0.052*\"want\" + 0.036*\"home\" + 0.019*\"door\" + 0.019*\"lock\" + 0.019*\"parent\" + 0.013*\"occup\" + 0.011*\"owner\" + 0.011*\"energi\"\n",
      "Topic: 1 \n",
      "Words: 0.095*\"I\" + 0.083*\"home\" + 0.059*\"want\" + 0.057*\"As\" + 0.031*\"occup\" + 0.025*\"smart\" + 0.018*\"owner\" + 0.014*\"save\" + 0.013*\"hous\" + 0.011*\"light\"\n",
      "Topic: 2 \n",
      "Words: 0.115*\"I\" + 0.062*\"want\" + 0.060*\"As\" + 0.049*\"home\" + 0.022*\"occup\" + 0.021*\"water\" + 0.019*\"owner\" + 0.013*\"smart\" + 0.012*\"know\" + 0.011*\"pet\"\n",
      "Topic: 3 \n",
      "Words: 0.094*\"I\" + 0.059*\"want\" + 0.057*\"As\" + 0.026*\"home\" + 0.020*\"hous\" + 0.018*\"occup\" + 0.012*\"get\" + 0.011*\"parent\" + 0.009*\"automat\" + 0.008*\"clean\"\n",
      "Topic: 4 \n",
      "Words: 0.080*\"I\" + 0.059*\"home\" + 0.058*\"want\" + 0.056*\"As\" + 0.032*\"occup\" + 0.013*\"smart\" + 0.011*\"get\" + 0.010*\"food\" + 0.008*\"owner\" + 0.008*\"music\"\n",
      "Topic: 5 \n",
      "Words: 0.109*\"I\" + 0.052*\"As\" + 0.051*\"want\" + 0.032*\"home\" + 0.015*\"smart\" + 0.013*\"pet\" + 0.012*\"owner\" + 0.012*\"automat\" + 0.010*\"occup\" + 0.009*\"music\"\n",
      "Topic: 6 \n",
      "Words: 0.090*\"I\" + 0.055*\"want\" + 0.052*\"As\" + 0.038*\"home\" + 0.020*\"owner\" + 0.018*\"alert\" + 0.013*\"smart\" + 0.010*\"get\" + 0.010*\"know\" + 0.010*\"room\"\n",
      "Topic: 7 \n",
      "Words: 0.090*\"I\" + 0.052*\"want\" + 0.050*\"As\" + 0.033*\"home\" + 0.025*\"occup\" + 0.015*\"temperatur\" + 0.012*\"turn\" + 0.010*\"floor\" + 0.010*\"hous\" + 0.009*\"shower\"\n",
      "Topic: 8 \n",
      "Words: 0.123*\"I\" + 0.063*\"want\" + 0.061*\"home\" + 0.060*\"As\" + 0.024*\"occup\" + 0.018*\"owner\" + 0.012*\"smart\" + 0.009*\"automat\" + 0.009*\"room\" + 0.008*\"hous\"\n",
      "Topic: 9 \n",
      "Words: 0.033*\"I\" + 0.022*\"want\" + 0.020*\"As\" + 0.014*\"home\" + 0.010*\"turn\" + 0.009*\"show\" + 0.008*\"like\" + 0.008*\"favorit\" + 0.008*\"automat\" + 0.006*\"thing\"\n"
     ]
    }
   ],
   "source": [
    "# Running LDA using Bag of Words\n",
    "lda_model = gensim.models.LdaMulticore(bow_corpus, num_topics=10, id2word=dictionary, passes=2, workers=2)\n",
    "# For each topic, we will explore the words occuring in that topic and its relative weight.\n",
    "for idx, topic in lda_model.print_topics(-1):\n",
    "    print('Topic: {} \\nWords: {}'.format(idx, topic))"
   ]
  },
  {
   "cell_type": "code",
   "execution_count": 167,
   "metadata": {},
   "outputs": [
    {
     "name": "stdout",
     "output_type": "stream",
     "text": [
      "Topic: 0 Word: 0.007*\"occup\" + 0.006*\"smart\" + 0.006*\"music\" + 0.006*\"home\" + 0.006*\"know\" + 0.006*\"owner\" + 0.006*\"hous\" + 0.006*\"energi\" + 0.006*\"door\" + 0.005*\"automat\"\n",
      "Topic: 1 Word: 0.008*\"temperatur\" + 0.008*\"smart\" + 0.008*\"alert\" + 0.006*\"home\" + 0.006*\"occup\" + 0.006*\"owner\" + 0.006*\"hous\" + 0.005*\"adjust\" + 0.005*\"parent\" + 0.005*\"child\"\n",
      "Topic: 2 Word: 0.010*\"water\" + 0.007*\"occup\" + 0.007*\"owner\" + 0.007*\"open\" + 0.006*\"smart\" + 0.006*\"garag\" + 0.006*\"go\" + 0.006*\"home\" + 0.006*\"door\" + 0.005*\"light\"\n",
      "Topic: 3 Word: 0.007*\"occup\" + 0.006*\"water\" + 0.006*\"owner\" + 0.006*\"window\" + 0.006*\"light\" + 0.006*\"time\" + 0.006*\"home\" + 0.006*\"automat\" + 0.006*\"heat\" + 0.005*\"get\"\n",
      "Topic: 4 Word: 0.009*\"pet\" + 0.006*\"owner\" + 0.006*\"know\" + 0.006*\"smart\" + 0.006*\"alert\" + 0.006*\"occup\" + 0.006*\"hous\" + 0.005*\"home\" + 0.005*\"door\" + 0.005*\"parent\"\n",
      "Topic: 5 Word: 0.007*\"owner\" + 0.007*\"automat\" + 0.007*\"occup\" + 0.006*\"turn\" + 0.006*\"save\" + 0.006*\"time\" + 0.006*\"home\" + 0.006*\"cook\" + 0.006*\"food\" + 0.005*\"room\"\n",
      "Topic: 6 Word: 0.010*\"temperatur\" + 0.008*\"room\" + 0.008*\"smart\" + 0.008*\"occup\" + 0.007*\"plant\" + 0.007*\"water\" + 0.006*\"home\" + 0.006*\"food\" + 0.006*\"owner\" + 0.006*\"dog\"\n",
      "Topic: 7 Word: 0.009*\"parent\" + 0.006*\"children\" + 0.006*\"owner\" + 0.006*\"know\" + 0.006*\"kid\" + 0.006*\"time\" + 0.006*\"home\" + 0.006*\"turn\" + 0.005*\"video\" + 0.005*\"light\"\n",
      "Topic: 8 Word: 0.009*\"save\" + 0.008*\"owner\" + 0.007*\"pet\" + 0.007*\"occup\" + 0.007*\"automat\" + 0.007*\"time\" + 0.007*\"home\" + 0.006*\"electr\" + 0.006*\"lock\" + 0.006*\"clean\"\n",
      "Topic: 9 Word: 0.009*\"room\" + 0.008*\"turn\" + 0.008*\"hous\" + 0.008*\"energi\" + 0.007*\"light\" + 0.007*\"occup\" + 0.006*\"owner\" + 0.006*\"lock\" + 0.006*\"home\" + 0.006*\"smart\"\n"
     ]
    }
   ],
   "source": [
    "# TF-IDF\n",
    "tfidf = models.TfidfModel(bow_corpus)\n",
    "corpus_tfidf = tfidf[bow_corpus]\n",
    "\n",
    "# Running LDA using TF-IDF\n",
    "lda_model_tfidf = gensim.models.LdaMulticore(corpus_tfidf, num_topics=10, id2word=dictionary, passes=2, workers=4)\n",
    "# For each topic, we will explore the words occuring in that topic and its relative weight.\n",
    "for idx, topic in lda_model_tfidf.print_topics(-1):\n",
    "    print('Topic: {} Word: {}'.format(idx, topic))"
   ]
  }
 ],
 "metadata": {
  "kernelspec": {
   "display_name": "Python 3",
   "language": "python",
   "name": "python3"
  },
  "language_info": {
   "codemirror_mode": {
    "name": "ipython",
    "version": 3
   },
   "file_extension": ".py",
   "mimetype": "text/x-python",
   "name": "python",
   "nbconvert_exporter": "python",
   "pygments_lexer": "ipython3",
   "version": "3.7.5"
  }
 },
 "nbformat": 4,
 "nbformat_minor": 2
}
