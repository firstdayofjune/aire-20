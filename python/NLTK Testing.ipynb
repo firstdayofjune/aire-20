{
 "cells": [
  {
   "cell_type": "code",
   "execution_count": 1,
   "metadata": {},
   "outputs": [],
   "source": [
    "# import ...\n",
    "import csv\n",
    "import gensim\n",
    "import matplotlib.pyplot as plot\n",
    "import nltk\n",
    "import numpy as np\n",
    "import re\n",
    "\n",
    "# from...\n",
    "# python standard libraries\n",
    "from pathlib import Path\n",
    "\n",
    "# from...\n",
    "# third party packages\n",
    "from gensim import corpora, models\n",
    "from nltk.corpus import brown\n",
    "from nltk.corpus import stopwords\n",
    "from nltk.stem.lancaster import LancasterStemmer\n",
    "from nltk.stem.porter import PorterStemmer\n",
    "\n",
    "# nltk.download('book')\n",
    "# nltk.download('brown')\n",
    "np.random.seed(2018)\n",
    "CROWD_RE_REQUIREMENTS = Path('..', 'crowdre_cleaned-csv', 'requirements.csv')"
   ]
  },
  {
   "cell_type": "code",
   "execution_count": 2,
   "metadata": {},
   "outputs": [],
   "source": [
    "class Requirement(object):\n",
    "    def __init__(self, text):\n",
    "        self.text = text\n",
    "    \n",
    "    def tokenize(self):\n",
    "        self.tokens = nltk.word_tokenize(self.cleaned_text)\n",
    "    \n",
    "    def redundant_start(self):\n",
    "        self.starts_with_smart_home = \"I want my smart home to\".lower() in self.text.lower()\n",
    "    \n",
    "    def remove_stopwords(self):\n",
    "        self.lexical_words = [word for word in self.tokens if word not in stopwords.words('english')]\n",
    "        \n",
    "    def reduce_to_stem(self):\n",
    "        #lancasterStemmer = LancasterStemmer()\n",
    "        porterStemmer = PorterStemmer()\n",
    "        self.stems = []\n",
    "        for lexicalWord in self.lexical_words:\n",
    "            self.stems.append(porterStemmer.stem(lexicalWord))\n",
    "            \n",
    "    def remove_special_characters(self):\n",
    "        regexOnlyWords = r'([A-Za-z]*)'\n",
    "        self.cleaned_text = ' '.join(re.findall(regexOnlyWords,self.text))\n",
    "        \n",
    "    def complete_analysis(self):\n",
    "        self.remove_special_characters()\n",
    "        self.tokenize()\n",
    "        self.redundant_start()\n",
    "        self.remove_stopwords()\n",
    "        self.reduce_to_stem()\n",
    "    \n",
    "    def __str__(self):\n",
    "        return self.text"
   ]
  },
  {
   "cell_type": "code",
   "execution_count": 3,
   "metadata": {},
   "outputs": [],
   "source": [
    "class RequirementsList(object):\n",
    "    def __init__(self, path):\n",
    "        if not path.exists() and path.is_file():\n",
    "            raise(\"The given path does not exist or is not a file.\")\n",
    "        self._build_requirements_list(path)\n",
    "        self._order_the_tags_list()\n",
    "    \n",
    "    def __iter__(self):\n",
    "        return self.requirements.__iter__() if hasattr(self, 'requirements') else []\n",
    "\n",
    "    def _build_requirements_list(self, path):\n",
    "        self.requirements = []\n",
    "        self.tags = dict()\n",
    "        self.tagNum = []\n",
    "        with open(path, newline='') as requirements_csv:\n",
    "            re_reader = csv.DictReader(requirements_csv, delimiter=',')\n",
    "            for row in re_reader:\n",
    "                requirementText = \"As a \" + row['role'] + \" I want \" + row['feature'] + \" so that \" + row['benefit']\n",
    "                # Get the list of tags\n",
    "                tagsList = row['tags'].split(\",\")\n",
    "                # Remove the whitespaces\n",
    "                tagsList = [tag.strip(' ') for tag in tagsList]\n",
    "                # Remove space elements\n",
    "                tagsList = [tag for tag in tagsList if tag != \" \"]\n",
    "                tagsList = [tag for tag in tagsList if tag != \"\"]\n",
    "                # Store the counter of tags in a map\n",
    "                self.tagNum.append(len(tagsList))\n",
    "                for tag in tagsList:\n",
    "                    if tag not in self.tags.keys():\n",
    "                        self.tags[tag] = 1\n",
    "                    else:\n",
    "                        self.tags[tag] = self.tags[tag] + 1\n",
    "                requirement = Requirement(requirementText)\n",
    "                self.requirements.append(requirement)\n",
    "                \n",
    "    def _order_the_tags_list(self):\n",
    "        orderedDict = dict()\n",
    "        for key in sorted(self.tags, key=self.tags.get, reverse=True):\n",
    "            orderedDict[key] = self.tags[key]\n",
    "        self.tags = orderedDict\n",
    "\n",
    "    def count(self):\n",
    "        return len(self.requirements) if hasattr(self, 'requirements') else 0\n",
    "\n",
    "re_list = RequirementsList(CROWD_RE_REQUIREMENTS)"
   ]
  },
  {
   "cell_type": "code",
   "execution_count": 4,
   "metadata": {},
   "outputs": [],
   "source": [
    "# NLP analysis\n",
    "joined_text = \" \".join(map(lambda re: re.text, re_list.requirements))\n",
    "joined_text_tokenized = nltk.word_tokenize(joined_text)\n",
    "\n",
    "no_of_requirements = re_list.count()\n",
    "tokens = []\n",
    "lexical_words = []\n",
    "stems = []\n",
    "re_starting_with_smart_home = 0\n",
    "\n",
    "lexical_words = []\n",
    "\n",
    "for requirement in re_list:\n",
    "    requirement.complete_analysis()\n",
    "    tokens += requirement.tokens    \n",
    "    lexical_words += requirement.lexical_words\n",
    "    stems += requirement.stems\n",
    "    if requirement.starts_with_smart_home:\n",
    "        re_starting_with_smart_home += 1 "
   ]
  },
  {
   "cell_type": "code",
   "execution_count": 5,
   "metadata": {
    "scrolled": false
   },
   "outputs": [
    {
     "name": "stdout",
     "output_type": "stream",
     "text": [
      "Number of Tokens (unique): \t\t88605 (4812)\n",
      "Number of Lexical Words: \t\t49107\n",
      "\n",
      "Vocabulary Size (Lexical Words): \t4677\n",
      "Vocabulary Size (Stems): \t\t3079\n",
      "\n",
      "Average Sentence Length (Tokens): \t30\n",
      "Average Sentence Length (Lexical Words):17\n",
      "\n",
      "Lexical Diversity: \t\t\t0.011\n",
      "Requirements containing\n",
      "\t'...I want my smart home to...': \t416/2966 (14.03%)\n"
     ]
    }
   ],
   "source": [
    "print(\"Number of Tokens (unique): \\t\\t{} ({})\".format(len(tokens), len(set(tokens))))\n",
    "print(\"Number of Lexical Words: \\t\\t{}\".format(len(lexical_words)))\n",
    "\n",
    "print(\"\\nVocabulary Size (Lexical Words): \\t{}\".format(len(set(lexical_words))))\n",
    "print(\"Vocabulary Size (Stems): \\t\\t{}\".format(len(set(stems))))\n",
    "\n",
    "print(\"\\nAverage Sentence Length (Tokens): \\t{}\".format(round(len(tokens) / no_of_requirements)))\n",
    "print(\"Average Sentence Length (Lexical Words):{}\".format(round(len(lexical_words) / no_of_requirements)))\n",
    "\n",
    "print(\"\\nLexical Diversity: \\t\\t\\t{}\".format(round(len(set(lexical_words)) / len(joined_text),3)))\n",
    "print(\"Requirements containing\\n\\t'...I want my smart home to...': \\t{}/{} ({}%)\".format(re_starting_with_smart_home, no_of_requirements, round(re_starting_with_smart_home / no_of_requirements * 100, 2)))\n"
   ]
  },
  {
   "cell_type": "code",
   "execution_count": 6,
   "metadata": {},
   "outputs": [
    {
     "data": {
      "image/png": "[encoded data removed]",
      "text/plain": [
       "<Figure size 432x288 with 1 Axes>"
      ]
     },
     "metadata": {
      "needs_background": "light"
     },
     "output_type": "display_data"
    },
    {
     "name": "stdout",
     "output_type": "stream",
     "text": [
      "Total amount of keys: 5232\n",
      "Keys per Requirement: min: 0, avg: 1, max: 11\n"
     ]
    }
   ],
   "source": [
    "x = list(re_list.tags.keys())[:8]\n",
    "y = list(re_list.tags.values())[:8]\n",
    "plot.bar(x, y)\n",
    "plot.suptitle(\"Keys of the requirements and the occurence in the requirements\", fontsize=16)\n",
    "plot.show()\n",
    "print(\"Total amount of keys: %d\" % sum(re_list.tagNum))\n",
    "print(\"Keys per Requirement: min: %d, avg: %d, max: %d\" % (min(re_list.tagNum), sum(re_list.tagNum)/len(re_list.tagNum), max(re_list.tagNum)))"
   ]
  },
  {
   "cell_type": "code",
   "execution_count": 7,
   "metadata": {},
   "outputs": [
    {
     "name": "stdout",
     "output_type": "stream",
     "text": [
      "Word 14 (\"hous\") appears 1 time.\n",
      "Word 16 (\"occup\") appears 1 time.\n",
      "Word 78 (\"time\") appears 1 time.\n",
      "Word 128 (\"notifi\") appears 1 time.\n",
      "Word 164 (\"potenti\") appears 1 time.\n",
      "Word 210 (\"avoid\") appears 1 time.\n",
      "Word 218 (\"without\") appears 1 time.\n",
      "Word 223 (\"enjoy\") appears 1 time.\n"
     ]
    }
   ],
   "source": [
    "# Prepare Dataset for LDA\n",
    "\n",
    "stemsList = []\n",
    "for requirement in re_list:\n",
    "    stemsList.append(requirement.stems)\n",
    "\n",
    "# Bag of Words on the Data set\n",
    "dictionary = gensim.corpora.Dictionary(stemsList)\n",
    "\n",
    "# Filter out:\n",
    "# less than 15 documents (absolute number) or\n",
    "# more than 0.5 documents (fraction of total corpus size, not absolute number).\n",
    "# after the above two steps, keep only the first 100000 most frequent tokens.\n",
    "dictionary.filter_extremes(no_below=15, no_above=0.5, keep_n=100000)\n",
    "\n",
    "# Gensim doc2bow\n",
    "bow_corpus = [dictionary.doc2bow(reqirement) for reqirement in stemsList]\n",
    "bow_doc_2965 = bow_corpus[2965]\n",
    "\n",
    "for i in range(len(bow_doc_2965)):\n",
    "    print(\"Word {} (\\\"{}\\\") appears {} time.\".format(bow_doc_2965[i][0], \n",
    "                                               dictionary[bow_doc_2965[i][0]], \n",
    "bow_doc_2965[i][1]))"
   ]
  },
  {
   "cell_type": "code",
   "execution_count": 8,
   "metadata": {
    "scrolled": false
   },
   "outputs": [
    {
     "name": "stdout",
     "output_type": "stream",
     "text": [
      "Topic: 0 Words: 0.045*\"owner\" + 0.028*\"smart\" + 0.020*\"know\" + 0.020*\"alert\" + 0.019*\"need\" + 0.016*\"someon\" + 0.015*\"automat\" + 0.015*\"health\" + 0.015*\"parent\" + 0.014*\"phone\"\n",
      "Topic: 1 Words: 0.067*\"occup\" + 0.031*\"light\" + 0.030*\"energi\" + 0.026*\"owner\" + 0.023*\"save\" + 0.021*\"smart\" + 0.021*\"temperatur\" + 0.019*\"room\" + 0.019*\"automat\" + 0.016*\"turn\"\n",
      "Topic: 2 Words: 0.036*\"time\" + 0.036*\"smart\" + 0.028*\"parent\" + 0.028*\"know\" + 0.027*\"owner\" + 0.027*\"pet\" + 0.024*\"occup\" + 0.022*\"get\" + 0.018*\"food\" + 0.016*\"alert\"\n",
      "Topic: 3 Words: 0.061*\"occup\" + 0.047*\"water\" + 0.024*\"time\" + 0.023*\"smart\" + 0.022*\"automat\" + 0.022*\"use\" + 0.014*\"turn\" + 0.014*\"owner\" + 0.012*\"room\" + 0.012*\"music\"\n",
      "Topic: 4 Words: 0.041*\"occup\" + 0.034*\"hous\" + 0.028*\"get\" + 0.020*\"owner\" + 0.019*\"parent\" + 0.017*\"know\" + 0.016*\"wake\" + 0.016*\"turn\" + 0.015*\"smart\" + 0.014*\"phone\"\n",
      "Topic: 5 Words: 0.087*\"owner\" + 0.062*\"pet\" + 0.040*\"smart\" + 0.032*\"hous\" + 0.019*\"dog\" + 0.017*\"door\" + 0.016*\"clean\" + 0.015*\"cat\" + 0.015*\"automat\" + 0.015*\"occup\"\n",
      "Topic: 6 Words: 0.031*\"smart\" + 0.028*\"occup\" + 0.027*\"owner\" + 0.027*\"room\" + 0.024*\"parent\" + 0.024*\"music\" + 0.023*\"alert\" + 0.022*\"child\" + 0.020*\"hous\" + 0.015*\"play\"\n",
      "Topic: 7 Words: 0.038*\"turn\" + 0.032*\"cook\" + 0.028*\"owner\" + 0.025*\"occup\" + 0.025*\"oven\" + 0.022*\"temperatur\" + 0.020*\"water\" + 0.017*\"smart\" + 0.016*\"food\" + 0.015*\"leav\"\n",
      "Topic: 8 Words: 0.078*\"occup\" + 0.032*\"save\" + 0.030*\"automat\" + 0.027*\"energi\" + 0.023*\"electr\" + 0.022*\"clean\" + 0.020*\"turn\" + 0.019*\"owner\" + 0.016*\"smart\" + 0.016*\"devic\"\n",
      "Topic: 9 Words: 0.043*\"occup\" + 0.033*\"smart\" + 0.024*\"door\" + 0.021*\"owner\" + 0.021*\"automat\" + 0.020*\"get\" + 0.020*\"time\" + 0.020*\"know\" + 0.018*\"parent\" + 0.016*\"alert\"\n"
     ]
    }
   ],
   "source": [
    "# Running LDA using Bag of Words\n",
    "lda_model = gensim.models.LdaMulticore(bow_corpus, num_topics=10, id2word=dictionary, passes=2, workers=2)\n",
    "# For each topic, we will explore the words occuring in that topic and its relative weight.\n",
    "for idx, topic in lda_model.print_topics(-1):\n",
    "    print('Topic: {} Words: {}'.format(idx, topic))"
   ]
  },
  {
   "cell_type": "code",
   "execution_count": 9,
   "metadata": {},
   "outputs": [
    {
     "name": "stdout",
     "output_type": "stream",
     "text": [
      "Topic: 0 Word: 0.022*\"energi\" + 0.018*\"save\" + 0.016*\"light\" + 0.015*\"use\" + 0.014*\"occup\" + 0.014*\"owner\" + 0.014*\"room\" + 0.014*\"electr\" + 0.013*\"turn\" + 0.011*\"smart\"\n",
      "Topic: 1 Word: 0.014*\"smart\" + 0.012*\"owner\" + 0.012*\"occup\" + 0.012*\"tv\" + 0.011*\"safe\" + 0.011*\"parent\" + 0.011*\"lock\" + 0.011*\"night\" + 0.010*\"door\" + 0.010*\"automat\"\n",
      "Topic: 2 Word: 0.018*\"owner\" + 0.017*\"kid\" + 0.016*\"alert\" + 0.013*\"go\" + 0.012*\"dog\" + 0.012*\"level\" + 0.012*\"pet\" + 0.012*\"smart\" + 0.012*\"parent\" + 0.011*\"occup\"\n",
      "Topic: 3 Word: 0.023*\"shower\" + 0.021*\"music\" + 0.020*\"temperatur\" + 0.014*\"occup\" + 0.012*\"room\" + 0.012*\"know\" + 0.012*\"warm\" + 0.011*\"owner\" + 0.010*\"turn\" + 0.010*\"work\"\n",
      "Topic: 4 Word: 0.027*\"pet\" + 0.026*\"water\" + 0.020*\"owner\" + 0.017*\"smart\" + 0.016*\"fire\" + 0.014*\"hous\" + 0.013*\"plant\" + 0.013*\"alert\" + 0.013*\"occup\" + 0.012*\"system\"\n",
      "Topic: 5 Word: 0.025*\"light\" + 0.020*\"turn\" + 0.019*\"occup\" + 0.016*\"automat\" + 0.015*\"save\" + 0.014*\"control\" + 0.013*\"night\" + 0.013*\"smart\" + 0.012*\"applianc\" + 0.011*\"feel\"\n",
      "Topic: 6 Word: 0.021*\"lock\" + 0.020*\"door\" + 0.016*\"parent\" + 0.016*\"air\" + 0.015*\"get\" + 0.014*\"monitor\" + 0.013*\"owner\" + 0.013*\"know\" + 0.013*\"occup\" + 0.013*\"smart\"\n",
      "Topic: 7 Word: 0.022*\"open\" + 0.020*\"door\" + 0.019*\"automat\" + 0.018*\"close\" + 0.016*\"garag\" + 0.014*\"safe\" + 0.014*\"know\" + 0.013*\"health\" + 0.012*\"occup\" + 0.012*\"smart\"\n",
      "Topic: 8 Word: 0.017*\"energi\" + 0.017*\"clean\" + 0.016*\"occup\" + 0.014*\"save\" + 0.013*\"water\" + 0.011*\"food\" + 0.011*\"cool\" + 0.011*\"hous\" + 0.011*\"toilet\" + 0.011*\"automat\"\n",
      "Topic: 9 Word: 0.017*\"light\" + 0.015*\"person\" + 0.013*\"occup\" + 0.013*\"time\" + 0.012*\"smart\" + 0.011*\"music\" + 0.011*\"hous\" + 0.010*\"come\" + 0.010*\"parent\" + 0.010*\"room\"\n"
     ]
    }
   ],
   "source": [
    "# TF-IDF\n",
    "tfidf = models.TfidfModel(bow_corpus)\n",
    "corpus_tfidf = tfidf[bow_corpus]\n",
    "\n",
    "# Running LDA using TF-IDF\n",
    "lda_model_tfidf = gensim.models.LdaMulticore(corpus_tfidf, num_topics=10, id2word=dictionary, passes=2, workers=4)\n",
    "# For each topic, we will explore the words occuring in that topic and its relative weight.\n",
    "for idx, topic in lda_model_tfidf.print_topics(-1):\n",
    "    print('Topic: {} Word: {}'.format(idx, topic))"
   ]
  },
  {
   "cell_type": "code",
   "execution_count": null,
   "metadata": {},
   "outputs": [],
   "source": []
  }
 ],
 "metadata": {
  "kernelspec": {
   "display_name": "Python 3",
   "language": "python",
   "name": "python3"
  },
  "language_info": {
   "codemirror_mode": {
    "name": "ipython",
    "version": 3
   },
   "file_extension": ".py",
   "mimetype": "text/x-python",
   "name": "python",
   "nbconvert_exporter": "python",
   "pygments_lexer": "ipython3",
   "version": "3.6.9"
  }
 },
 "nbformat": 4,
 "nbformat_minor": 2
}
