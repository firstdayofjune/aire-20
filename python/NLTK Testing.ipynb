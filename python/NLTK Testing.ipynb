{
 "cells": [
  {
   "cell_type": "code",
   "execution_count": 56,
   "metadata": {},
   "outputs": [],
   "source": [
    "import csv\n",
    "from pathlib import Path\n",
    "\n",
    "import nltk\n",
    "\n",
    "# nltk.download('book')\n",
    "# nltk.download('brown')\n",
    "\n",
    "from nltk.book import *\n",
    "from nltk.corpus import brown\n",
    "from nltk.text import Text"
   ]
  },
  {
   "cell_type": "code",
   "execution_count": 83,
   "metadata": {},
   "outputs": [],
   "source": [
    "CROWD_RE_REQUIREMENTS = Path('..', 'crowdre_cleaned-csv', 'requirements.csv')"
   ]
  },
  {
   "cell_type": "code",
   "execution_count": 84,
   "metadata": {},
   "outputs": [
    {
     "data": {
      "text/plain": [
       "True"
      ]
     },
     "execution_count": 84,
     "metadata": {},
     "output_type": "execute_result"
    }
   ],
   "source": [
    "CROWD_RE_REQUIREMENTS.exists() and CROWD_RE_REQUIREMENTS.is_file()"
   ]
  },
  {
   "cell_type": "code",
   "execution_count": 85,
   "metadata": {},
   "outputs": [],
   "source": [
    "requirements = []\n",
    "with open(CROWD_RE_REQUIREMENTS, newline='') as requirements_csv:\n",
    "    re_reader = csv.DictReader(requirements_csv, delimiter=',')\n",
    "    for requirement in re_reader:\n",
    "        requirements.append(requirement['feature'])"
   ]
  },
  {
   "cell_type": "code",
   "execution_count": 86,
   "metadata": {},
   "outputs": [
    {
     "data": {
      "text/plain": [
       "2966"
      ]
     },
     "execution_count": 86,
     "metadata": {},
     "output_type": "execute_result"
    }
   ],
   "source": [
    "len(requirements)"
   ]
  },
  {
   "cell_type": "code",
   "execution_count": 87,
   "metadata": {},
   "outputs": [],
   "source": [
    "class Requirement(object):\n",
    "    def __init__(self, text):\n",
    "        self.text = text\n",
    "    \n",
    "    def tokenize(self):\n",
    "        self.tokens = nltk.word_tokenize(self.text)   "
   ]
  },
  {
   "cell_type": "code",
   "execution_count": 88,
   "metadata": {},
   "outputs": [],
   "source": [
    "tokens = []\n",
    "for re in requirements:\n",
    "    req = Requirement(re)\n",
    "    req.tokenize()\n",
    "    tokens += req.tokens"
   ]
  },
  {
   "cell_type": "code",
   "execution_count": 89,
   "metadata": {},
   "outputs": [],
   "source": [
    "re_text = \" \".join(requirements)\n",
    "re_words = re_text.split(\" \")"
   ]
  },
  {
   "cell_type": "code",
   "execution_count": 90,
   "metadata": {},
   "outputs": [
    {
     "name": "stdout",
     "output_type": "stream",
     "text": [
      "Token analysis:\n",
      "35747\n",
      "12.052258934592043\n",
      "\n",
      "Vocabulary Analysis:\n",
      "35747\n",
      "3519\n",
      "34794\n",
      "4107\n",
      "0.11803759268839455\n",
      "0.10113812726332126\n"
     ]
    }
   ],
   "source": [
    "# Token analysis\n",
    "print(\"Token analysis:\")\n",
    "print(len(tokens))\n",
    "print(len(tokens) / len(requirements))\n",
    "\n",
    "# vocabulary analysis\n",
    "print(\"\\nVocabulary Analysis:\")\n",
    "print(len(nltk.word_tokenize(re_text)))\n",
    "print(len(set(nltk.word_tokenize(re_text))))\n",
    "\n",
    "print(len(re_words))\n",
    "print(len(set(re_words)))\n",
    "\n",
    "# Lexical diversity:\n",
    "print(len(set(re_words)) / len(re_words))\n",
    "print(len(set(tokens)) / len(re_words))"
   ]
  },
  {
   "cell_type": "code",
   "execution_count": null,
   "metadata": {},
   "outputs": [],
   "source": []
  }
 ],
 "metadata": {
  "kernelspec": {
   "display_name": "Python 3",
   "language": "python",
   "name": "python3"
  },
  "language_info": {
   "codemirror_mode": {
    "name": "ipython",
    "version": 3
   },
   "file_extension": ".py",
   "mimetype": "text/x-python",
   "name": "python",
   "nbconvert_exporter": "python",
   "pygments_lexer": "ipython3",
   "version": "3.6.9"
  }
 },
 "nbformat": 4,
 "nbformat_minor": 2
}
