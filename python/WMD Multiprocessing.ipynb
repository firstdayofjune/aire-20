{
 "cells": [
  {
   "cell_type": "code",
   "execution_count": 2,
   "metadata": {},
   "outputs": [],
   "source": [
    "from pathlib import Path\n",
    "from mare.analysis import RequirementsPreprocessor, PreTrainedWord2VecAnalyser\n",
    "\n",
    "path_to_requirements = Path('..', 'crowdre_cleaned-csv', 'requirements.csv')\n",
    "preprocessor = RequirementsPreprocessor(path_to_requirements)\n",
    "preprocessor._preprocess_requirements()"
   ]
  },
  {
   "cell_type": "code",
   "execution_count": 3,
   "metadata": {},
   "outputs": [],
   "source": [
    "# Prepare reqs for word2vec\n",
    "redundancy_filter = lambda stem: stem.lower() not in ['as', 'smart', 'home', 'owner', 'i', 'want', 'be', 'able']\n",
    "stem_to_filter = lambda re: list(filter(redundancy_filter, re.stems))\n",
    "\n",
    "stemmed_sentences = list(map(stem_to_filter, preprocessor.requirements))"
   ]
  },
  {
   "cell_type": "code",
   "execution_count": 4,
   "metadata": {},
   "outputs": [],
   "source": [
    "# Compute distance matrix for re-sentences using word movers distance\n",
    "\n",
    "import gensim\n",
    "\n",
    "model = gensim.models.Word2Vec(stemmed_sentences, min_count=5, size=50, sg=1)"
   ]
  },
  {
   "cell_type": "code",
   "execution_count": 5,
   "metadata": {},
   "outputs": [
    {
     "data": {
      "text/plain": [
       "0.24543347724184175"
      ]
     },
     "execution_count": 5,
     "metadata": {},
     "output_type": "execute_result"
    }
   ],
   "source": [
    "model.wv.wmdistance(stemmed_sentences[1], stemmed_sentences[2])"
   ]
  },
  {
   "cell_type": "code",
   "execution_count": null,
   "metadata": {},
   "outputs": [
    {
     "data": {
      "application/vnd.jupyter.widget-view+json": {
       "model_id": "98478fa4342f4e9ea5910a8418c05c59",
       "version_major": 2,
       "version_minor": 0
      },
      "text/plain": [
       "HBox(children=(FloatProgress(value=0.0, description='Calculating distances', max=248.0, style=ProgressStyle(de…"
      ]
     },
     "metadata": {},
     "output_type": "display_data"
    }
   ],
   "source": [
    "import numpy as np\n",
    "from tqdm.notebook import tqdm\n",
    "\n",
    "from multiprocessing import Pool\n",
    "\n",
    "import os\n",
    "\n",
    "DIMENSION = len(stemmed_sentences)\n",
    "POOL_SIZE = 12\n",
    "\n",
    "def calc_distance(sentence_from):\n",
    "    dimensions = np.zeros(DIMENSION)\n",
    "    for i, sentence_to in enumerate(stemmed_sentences):\n",
    "        word_mover_distance = model.wv.wmdistance(sentence_from, sentence_to)\n",
    "        dimensions[i] = word_mover_distance\n",
    "    return dimensions\n",
    "\n",
    "if __name__ == '__main__':\n",
    "    distance_matrix = np.zeros((DIMENSION, DIMENSION))\n",
    "    with Pool(POOL_SIZE) as p:\n",
    "        # Calculate distancens for every <POOL_SIZE> sentences\n",
    "        for i in tqdm(range(0, len(stemmed_sentences), POOL_SIZE), desc=\"Calculating distances\", leave=False):\n",
    "            results = p.map(calc_distance, stemmed_sentences[i:i+POOL_SIZE])\n",
    "            for j, result in enumerate(results):\n",
    "                distance_matrix[j+i] = result\n"
   ]
  },
  {
   "cell_type": "code",
   "execution_count": null,
   "metadata": {},
   "outputs": [],
   "source": []
  }
 ],
 "metadata": {
  "kernelspec": {
   "display_name": "Python 3",
   "language": "python",
   "name": "python3"
  },
  "language_info": {
   "codemirror_mode": {
    "name": "ipython",
    "version": 3
   },
   "file_extension": ".py",
   "mimetype": "text/x-python",
   "name": "python",
   "nbconvert_exporter": "python",
   "pygments_lexer": "ipython3",
   "version": "3.6.9"
  }
 },
 "nbformat": 4,
 "nbformat_minor": 4
}
