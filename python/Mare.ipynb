{
 "cells": [
  {
   "cell_type": "code",
   "execution_count": 1,
   "metadata": {
    "pycharm": {
     "is_executing": false
    }
   },
   "outputs": [],
   "source": [
    "from pathlib import Path\n",
    "from mare.analysis import RequirementsPreprocessor, NLPAnalyzer, LDAAnalyzer"
   ]
  },
  {
   "cell_type": "code",
   "execution_count": 2,
   "metadata": {},
   "outputs": [],
   "source": [
    "path_to_requirements = Path('..', 'crowdre_cleaned-csv', 'requirements.csv')\n",
    "preprocessor = RequirementsPreprocessor(path_to_requirements)\n",
    "preprocessor._preprocess_requirements()"
   ]
  },
  {
   "cell_type": "code",
   "execution_count": 3,
   "metadata": {
    "pycharm": {
     "is_executing": false,
     "name": "#%%\n"
    }
   },
   "outputs": [
    {
     "name": "stdout",
     "output_type": "stream",
     "text": [
      "Number of Tokens (unique): \t\t87542 (4968)\n",
      "Number of Lexical Words: \t\t49374\n",
      "\n",
      "Vocabulary Size (Lexical Words): \t4851\n",
      "Vocabulary Size (Stems): \t\t3242\n",
      "\n",
      "Average Sentence Length (Tokens): \t30\n",
      "Average Sentence Length (Lexical Words):17\n",
      "\n",
      "Lexical Diversity: \t\t\t0.011\n",
      "Requirements containing\n",
      "\t'...I want my smart home to...': \t416/2966 (14.03%)\n"
     ]
    },
    {
     "data": {
      "image/png": "[encoded data removed]",
      "text/plain": [
       "<Figure size 432x288 with 1 Axes>"
      ]
     },
     "metadata": {
      "needs_background": "light"
     },
     "output_type": "display_data"
    },
    {
     "name": "stdout",
     "output_type": "stream",
     "text": [
      "Total amount of tags: 5232\n",
      "Requirements with tags: 2592 (87.39%)\n",
      "Tags per Requirement: min: 0, avg: 1, max: 11\n"
     ]
    }
   ],
   "source": [
    "nlp = NLPAnalyzer(preprocessor.requirements)\n",
    "\n",
    "nlp.analyze_vocabulary()\n",
    "nlp.analyze_tags()"
   ]
  },
  {
   "cell_type": "code",
   "execution_count": 3,
   "metadata": {
    "pycharm": {
     "name": "#%%\n"
    }
   },
   "outputs": [
    {
     "name": "stdout",
     "output_type": "stream",
     "text": [
      "Word 14 (\"hous\") appears 1 time.\n",
      "Word 16 (\"occup\") appears 1 time.\n",
      "Word 79 (\"time\") appears 1 time.\n",
      "Word 129 (\"notifi\") appears 1 time.\n",
      "Word 165 (\"potenti\") appears 1 time.\n",
      "Word 212 (\"avoid\") appears 1 time.\n",
      "Word 220 (\"without\") appears 1 time.\n",
      "Word 225 (\"enjoy\") appears 1 time.\n"
     ]
    }
   ],
   "source": [
    "lda = LDAAnalyzer(preprocessor.requirements)\n",
    "lda.prepare()\n",
    "lda.test_preparation()"
   ]
  },
  {
   "cell_type": "code",
   "execution_count": 4,
   "metadata": {},
   "outputs": [
    {
     "name": "stdout",
     "output_type": "stream",
     "text": [
      "Topic: 0\n",
      "Words: 0.050*\"owner\" + 0.042*\"door\" + 0.021*\"occup\" + 0.020*\"alert\" + 0.020*\"smart\" + 0.020*\"clean\" + 0.019*\"automat\" + 0.018*\"time\" + 0.017*\"dont\" + 0.017*\"hous\"\n",
      "\n",
      "Topic: 1\n",
      "Words: 0.039*\"occup\" + 0.032*\"turn\" + 0.026*\"save\" + 0.026*\"owner\" + 0.025*\"air\" + 0.023*\"electr\" + 0.020*\"automat\" + 0.018*\"bill\" + 0.017*\"energi\" + 0.017*\"heat\"\n",
      "\n",
      "Topic: 2\n",
      "Words: 0.036*\"get\" + 0.032*\"owner\" + 0.030*\"occup\" + 0.028*\"smart\" + 0.027*\"parent\" + 0.024*\"dont\" + 0.022*\"time\" + 0.020*\"temperatur\" + 0.019*\"hous\" + 0.015*\"lock\"\n",
      "\n",
      "Topic: 3\n",
      "Words: 0.044*\"occup\" + 0.031*\"time\" + 0.030*\"light\" + 0.025*\"room\" + 0.024*\"turn\" + 0.023*\"owner\" + 0.020*\"smart\" + 0.020*\"automat\" + 0.018*\"pet\" + 0.018*\"open\"\n",
      "\n",
      "Topic: 4\n",
      "Words: 0.052*\"occup\" + 0.050*\"water\" + 0.042*\"pet\" + 0.040*\"owner\" + 0.035*\"save\" + 0.031*\"energi\" + 0.031*\"smart\" + 0.022*\"use\" + 0.017*\"alert\" + 0.016*\"know\"\n",
      "\n",
      "Topic: 5\n",
      "Words: 0.035*\"cook\" + 0.032*\"parent\" + 0.026*\"occup\" + 0.019*\"owner\" + 0.018*\"know\" + 0.018*\"water\" + 0.017*\"smart\" + 0.017*\"door\" + 0.017*\"get\" + 0.015*\"oven\"\n",
      "\n",
      "Topic: 6\n",
      "Words: 0.047*\"water\" + 0.043*\"smart\" + 0.036*\"owner\" + 0.030*\"occup\" + 0.023*\"tv\" + 0.019*\"show\" + 0.018*\"alert\" + 0.016*\"health\" + 0.015*\"watch\" + 0.013*\"energi\"\n",
      "\n",
      "Topic: 7\n",
      "Words: 0.059*\"occup\" + 0.028*\"smart\" + 0.026*\"music\" + 0.023*\"owner\" + 0.021*\"know\" + 0.021*\"food\" + 0.018*\"room\" + 0.018*\"hous\" + 0.014*\"alert\" + 0.014*\"keep\"\n",
      "\n",
      "Topic: 8\n",
      "Words: 0.053*\"occup\" + 0.042*\"hous\" + 0.033*\"owner\" + 0.030*\"smart\" + 0.026*\"light\" + 0.024*\"automat\" + 0.019*\"room\" + 0.015*\"turn\" + 0.014*\"energi\" + 0.012*\"know\"\n",
      "\n",
      "Topic: 9\n",
      "Words: 0.053*\"occup\" + 0.037*\"smart\" + 0.024*\"get\" + 0.024*\"automat\" + 0.022*\"coffe\" + 0.020*\"alarm\" + 0.019*\"turn\" + 0.019*\"owner\" + 0.019*\"dont\" + 0.017*\"know\"\n",
      "\n"
     ]
    }
   ],
   "source": [
    "lda.bag_of_words()"
   ]
  },
  {
   "cell_type": "code",
   "execution_count": 5,
   "metadata": {},
   "outputs": [
    {
     "name": "stdout",
     "output_type": "stream",
     "text": [
      "Topic: 0\n",
      "Word: 0.014*\"occup\" + 0.013*\"coffe\" + 0.012*\"save\" + 0.012*\"run\" + 0.011*\"turn\" + 0.011*\"light\" + 0.010*\"low\" + 0.010*\"owner\" + 0.010*\"automat\" + 0.010*\"time\"\n",
      "\n",
      "Topic: 1\n",
      "Word: 0.019*\"energi\" + 0.018*\"door\" + 0.013*\"owner\" + 0.013*\"use\" + 0.013*\"automat\" + 0.013*\"occup\" + 0.012*\"dog\" + 0.012*\"lock\" + 0.012*\"turn\" + 0.011*\"smart\"\n",
      "\n",
      "Topic: 2\n",
      "Word: 0.016*\"water\" + 0.015*\"occup\" + 0.013*\"room\" + 0.013*\"dont\" + 0.013*\"owner\" + 0.013*\"hous\" + 0.013*\"light\" + 0.012*\"get\" + 0.011*\"smart\" + 0.011*\"music\"\n",
      "\n",
      "Topic: 3\n",
      "Word: 0.023*\"clean\" + 0.016*\"occup\" + 0.015*\"cook\" + 0.015*\"smart\" + 0.013*\"vacuum\" + 0.012*\"automat\" + 0.011*\"owner\" + 0.011*\"door\" + 0.011*\"lock\" + 0.011*\"hous\"\n",
      "\n",
      "Topic: 4\n",
      "Word: 0.019*\"save\" + 0.016*\"room\" + 0.016*\"light\" + 0.015*\"occup\" + 0.015*\"system\" + 0.014*\"electr\" + 0.014*\"know\" + 0.014*\"owner\" + 0.014*\"parent\" + 0.013*\"time\"\n",
      "\n",
      "Topic: 5\n",
      "Word: 0.017*\"owner\" + 0.016*\"light\" + 0.016*\"safe\" + 0.015*\"alert\" + 0.015*\"turn\" + 0.013*\"hous\" + 0.013*\"smart\" + 0.012*\"occup\" + 0.011*\"someon\" + 0.011*\"certain\"\n",
      "\n",
      "Topic: 6\n",
      "Word: 0.013*\"alert\" + 0.013*\"dont\" + 0.012*\"someth\" + 0.012*\"smart\" + 0.012*\"get\" + 0.011*\"occup\" + 0.011*\"owner\" + 0.010*\"clean\" + 0.010*\"hous\" + 0.010*\"parent\"\n",
      "\n",
      "Topic: 7\n",
      "Word: 0.013*\"child\" + 0.013*\"occup\" + 0.013*\"know\" + 0.012*\"hous\" + 0.012*\"dont\" + 0.011*\"smart\" + 0.011*\"owner\" + 0.011*\"door\" + 0.010*\"alarm\" + 0.010*\"automat\"\n",
      "\n",
      "Topic: 8\n",
      "Word: 0.017*\"occup\" + 0.015*\"temperatur\" + 0.015*\"smart\" + 0.012*\"chang\" + 0.012*\"room\" + 0.012*\"sleep\" + 0.012*\"light\" + 0.011*\"energi\" + 0.011*\"tv\" + 0.011*\"save\"\n",
      "\n",
      "Topic: 9\n",
      "Word: 0.024*\"pet\" + 0.016*\"food\" + 0.016*\"water\" + 0.015*\"open\" + 0.015*\"owner\" + 0.013*\"temperatur\" + 0.012*\"door\" + 0.012*\"know\" + 0.011*\"automat\" + 0.011*\"smart\"\n",
      "\n"
     ]
    }
   ],
   "source": [
    "lda.tf_idf()"
   ]
  },
  {
   "cell_type": "code",
   "execution_count": 8,
   "metadata": {},
   "outputs": [],
   "source": [
    "from mare.analysis import RequirementsAnalyzer\n",
    "import gensim\n",
    "\n",
    "class Word2VecAnalyzer(RequirementsAnalyzer):\n",
    "\n",
    "    def word2vec(self):\n",
    "        tokenized_sentences = list(map(lambda re: re.tokens, self.requirements_list))\n",
    "        self.model = gensim.models.Word2Vec(tokenized_sentences, min_count=5, size=50)\n",
    "    \n",
    "word_2_vec = Word2VecAnalyzer(preprocessor.requirements)\n",
    "word_2_vec.word2vec()"
   ]
  },
  {
   "cell_type": "code",
   "execution_count": 9,
   "metadata": {},
   "outputs": [
    {
     "data": {
      "text/plain": [
       "['a', 'As', 'home', 'occupant', 'smart', 'parent', 'pet']"
      ]
     },
     "execution_count": 9,
     "metadata": {},
     "output_type": "execute_result"
    }
   ],
   "source": [
    "word_2_vec.model.wv.words_closer_than(\"owner\", \"want\")"
   ]
  },
  {
   "cell_type": "code",
   "execution_count": null,
   "metadata": {},
   "outputs": [],
   "source": [
    "#TODO: Continue with proper embeddings"
   ]
  }
 ],
 "metadata": {
  "kernelspec": {
   "display_name": "Python 3",
   "language": "python",
   "name": "python3"
  },
  "language_info": {
   "codemirror_mode": {
    "name": "ipython",
    "version": 3
   },
   "file_extension": ".py",
   "mimetype": "text/x-python",
   "name": "python",
   "nbconvert_exporter": "python",
   "pygments_lexer": "ipython3",
   "version": "3.6.9"
  },
  "pycharm": {
   "stem_cell": {
    "cell_type": "raw",
    "metadata": {
     "collapsed": false
    },
    "source": []
   }
  }
 },
 "nbformat": 4,
 "nbformat_minor": 2
}
